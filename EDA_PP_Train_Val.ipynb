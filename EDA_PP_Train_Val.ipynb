{
 "cells": [
  {
   "cell_type": "markdown",
   "id": "25e80633-35d0-4d55-9189-8396388a0c63",
   "metadata": {
    "jp-MarkdownHeadingCollapsed": true,
    "tags": []
   },
   "source": [
    "# This notebook contains all the EDA, Feature Engg. , Preprocessing, Training and Analysis of Validation data with evalution metrics and Conclusion"
   ]
  },
  {
   "cell_type": "code",
   "execution_count": 1,
   "id": "e4c4bf67-9782-46a5-ac18-46cdafc2e630",
   "metadata": {
    "tags": []
   },
   "outputs": [],
   "source": [
    "import pandas as pd\n",
    "from sklearn import preprocessing\n",
    "min_max_scaler = preprocessing.MinMaxScaler()\n",
    "import xgboost as xgb\n",
    "from sklearn.model_selection import train_test_split\n",
    "from sklearn.metrics import classification_report,accuracy_score,confusion_matrix,ConfusionMatrixDisplay\n",
    "import matplotlib.pylab as plt\n",
    "import numpy as np\n",
    "import optuna\n"
   ]
  },
  {
   "cell_type": "markdown",
   "id": "7697a868-33bb-4d12-b796-56b18362ec3b",
   "metadata": {
    "jp-MarkdownHeadingCollapsed": true,
    "tags": []
   },
   "source": [
    "# EDA, Feature Engineering, Preprocessing"
   ]
  },
  {
   "cell_type": "code",
   "execution_count": 2,
   "id": "3b988c0d-c1db-4609-a7c2-384c41047694",
   "metadata": {
    "tags": []
   },
   "outputs": [],
   "source": [
    "data = pd.read_csv('training_set.csv')"
   ]
  },
  {
   "cell_type": "code",
   "execution_count": 3,
   "id": "6103db55-2018-4323-9932-84536e3ab839",
   "metadata": {
    "tags": []
   },
   "outputs": [
    {
     "data": {
      "text/html": [
       "<div>\n",
       "<style scoped>\n",
       "    .dataframe tbody tr th:only-of-type {\n",
       "        vertical-align: middle;\n",
       "    }\n",
       "\n",
       "    .dataframe tbody tr th {\n",
       "        vertical-align: top;\n",
       "    }\n",
       "\n",
       "    .dataframe thead th {\n",
       "        text-align: right;\n",
       "    }\n",
       "</style>\n",
       "<table border=\"1\" class=\"dataframe\">\n",
       "  <thead>\n",
       "    <tr style=\"text-align: right;\">\n",
       "      <th></th>\n",
       "      <th>Unnamed: 0</th>\n",
       "      <th>X1</th>\n",
       "      <th>X2</th>\n",
       "      <th>X3</th>\n",
       "      <th>X4</th>\n",
       "      <th>X5</th>\n",
       "      <th>X6</th>\n",
       "      <th>X7</th>\n",
       "      <th>X8</th>\n",
       "      <th>X9</th>\n",
       "      <th>...</th>\n",
       "      <th>X49</th>\n",
       "      <th>X50</th>\n",
       "      <th>X51</th>\n",
       "      <th>X52</th>\n",
       "      <th>X53</th>\n",
       "      <th>X54</th>\n",
       "      <th>X55</th>\n",
       "      <th>X56</th>\n",
       "      <th>X57</th>\n",
       "      <th>Y</th>\n",
       "    </tr>\n",
       "  </thead>\n",
       "  <tbody>\n",
       "    <tr>\n",
       "      <th>0</th>\n",
       "      <td>0</td>\n",
       "      <td>0.00</td>\n",
       "      <td>0.00</td>\n",
       "      <td>4.34</td>\n",
       "      <td>0.00</td>\n",
       "      <td>0.00</td>\n",
       "      <td>0.00</td>\n",
       "      <td>0.00</td>\n",
       "      <td>0.00</td>\n",
       "      <td>0.0</td>\n",
       "      <td>...</td>\n",
       "      <td>0.0</td>\n",
       "      <td>0.000</td>\n",
       "      <td>0.0</td>\n",
       "      <td>1.342</td>\n",
       "      <td>0.000</td>\n",
       "      <td>0.000</td>\n",
       "      <td>1.200</td>\n",
       "      <td>2</td>\n",
       "      <td>12</td>\n",
       "      <td>0</td>\n",
       "    </tr>\n",
       "    <tr>\n",
       "      <th>1</th>\n",
       "      <td>1</td>\n",
       "      <td>0.00</td>\n",
       "      <td>0.56</td>\n",
       "      <td>0.56</td>\n",
       "      <td>0.00</td>\n",
       "      <td>1.12</td>\n",
       "      <td>0.56</td>\n",
       "      <td>2.25</td>\n",
       "      <td>0.00</td>\n",
       "      <td>0.0</td>\n",
       "      <td>...</td>\n",
       "      <td>0.0</td>\n",
       "      <td>0.083</td>\n",
       "      <td>0.0</td>\n",
       "      <td>0.503</td>\n",
       "      <td>0.000</td>\n",
       "      <td>0.083</td>\n",
       "      <td>16.304</td>\n",
       "      <td>148</td>\n",
       "      <td>375</td>\n",
       "      <td>1</td>\n",
       "    </tr>\n",
       "    <tr>\n",
       "      <th>2</th>\n",
       "      <td>2</td>\n",
       "      <td>0.00</td>\n",
       "      <td>0.00</td>\n",
       "      <td>0.00</td>\n",
       "      <td>0.00</td>\n",
       "      <td>0.00</td>\n",
       "      <td>0.00</td>\n",
       "      <td>0.00</td>\n",
       "      <td>0.00</td>\n",
       "      <td>0.0</td>\n",
       "      <td>...</td>\n",
       "      <td>0.0</td>\n",
       "      <td>0.000</td>\n",
       "      <td>0.0</td>\n",
       "      <td>0.000</td>\n",
       "      <td>0.000</td>\n",
       "      <td>0.000</td>\n",
       "      <td>1.000</td>\n",
       "      <td>1</td>\n",
       "      <td>5</td>\n",
       "      <td>0</td>\n",
       "    </tr>\n",
       "    <tr>\n",
       "      <th>3</th>\n",
       "      <td>3</td>\n",
       "      <td>0.64</td>\n",
       "      <td>0.00</td>\n",
       "      <td>0.64</td>\n",
       "      <td>0.00</td>\n",
       "      <td>1.93</td>\n",
       "      <td>0.00</td>\n",
       "      <td>0.00</td>\n",
       "      <td>0.00</td>\n",
       "      <td>0.0</td>\n",
       "      <td>...</td>\n",
       "      <td>0.0</td>\n",
       "      <td>0.000</td>\n",
       "      <td>0.0</td>\n",
       "      <td>0.462</td>\n",
       "      <td>0.370</td>\n",
       "      <td>0.000</td>\n",
       "      <td>2.440</td>\n",
       "      <td>22</td>\n",
       "      <td>122</td>\n",
       "      <td>1</td>\n",
       "    </tr>\n",
       "    <tr>\n",
       "      <th>4</th>\n",
       "      <td>4</td>\n",
       "      <td>0.58</td>\n",
       "      <td>0.00</td>\n",
       "      <td>0.00</td>\n",
       "      <td>35.46</td>\n",
       "      <td>0.58</td>\n",
       "      <td>0.00</td>\n",
       "      <td>0.58</td>\n",
       "      <td>0.58</td>\n",
       "      <td>0.0</td>\n",
       "      <td>...</td>\n",
       "      <td>0.0</td>\n",
       "      <td>0.000</td>\n",
       "      <td>0.0</td>\n",
       "      <td>0.239</td>\n",
       "      <td>0.239</td>\n",
       "      <td>0.000</td>\n",
       "      <td>3.338</td>\n",
       "      <td>123</td>\n",
       "      <td>207</td>\n",
       "      <td>1</td>\n",
       "    </tr>\n",
       "  </tbody>\n",
       "</table>\n",
       "<p>5 rows × 59 columns</p>\n",
       "</div>"
      ],
      "text/plain": [
       "   Unnamed: 0    X1    X2    X3     X4    X5    X6    X7    X8   X9  ...  X49  \\\n",
       "0           0  0.00  0.00  4.34   0.00  0.00  0.00  0.00  0.00  0.0  ...  0.0   \n",
       "1           1  0.00  0.56  0.56   0.00  1.12  0.56  2.25  0.00  0.0  ...  0.0   \n",
       "2           2  0.00  0.00  0.00   0.00  0.00  0.00  0.00  0.00  0.0  ...  0.0   \n",
       "3           3  0.64  0.00  0.64   0.00  1.93  0.00  0.00  0.00  0.0  ...  0.0   \n",
       "4           4  0.58  0.00  0.00  35.46  0.58  0.00  0.58  0.58  0.0  ...  0.0   \n",
       "\n",
       "     X50  X51    X52    X53    X54     X55  X56  X57  Y  \n",
       "0  0.000  0.0  1.342  0.000  0.000   1.200    2   12  0  \n",
       "1  0.083  0.0  0.503  0.000  0.083  16.304  148  375  1  \n",
       "2  0.000  0.0  0.000  0.000  0.000   1.000    1    5  0  \n",
       "3  0.000  0.0  0.462  0.370  0.000   2.440   22  122  1  \n",
       "4  0.000  0.0  0.239  0.239  0.000   3.338  123  207  1  \n",
       "\n",
       "[5 rows x 59 columns]"
      ]
     },
     "execution_count": 3,
     "metadata": {},
     "output_type": "execute_result"
    }
   ],
   "source": [
    "data.head() # Checking top values"
   ]
  },
  {
   "cell_type": "code",
   "execution_count": 4,
   "id": "13867fa2-9b9a-4915-b57c-25a8acf8a748",
   "metadata": {
    "tags": []
   },
   "outputs": [],
   "source": [
    "# Remove Unnamed: 0 columns , possibley because of missing index=False in pd.to_csv"
   ]
  },
  {
   "cell_type": "code",
   "execution_count": 5,
   "id": "9bf54f0e-18d1-45fd-8231-84a1839a86ee",
   "metadata": {
    "tags": []
   },
   "outputs": [],
   "source": [
    "data.drop('Unnamed: 0',axis=1,inplace=True)"
   ]
  },
  {
   "cell_type": "code",
   "execution_count": 6,
   "id": "611f7d43-1d70-45ed-94ec-68e380298f4e",
   "metadata": {
    "tags": []
   },
   "outputs": [
    {
     "data": {
      "text/html": [
       "<div>\n",
       "<style scoped>\n",
       "    .dataframe tbody tr th:only-of-type {\n",
       "        vertical-align: middle;\n",
       "    }\n",
       "\n",
       "    .dataframe tbody tr th {\n",
       "        vertical-align: top;\n",
       "    }\n",
       "\n",
       "    .dataframe thead th {\n",
       "        text-align: right;\n",
       "    }\n",
       "</style>\n",
       "<table border=\"1\" class=\"dataframe\">\n",
       "  <thead>\n",
       "    <tr style=\"text-align: right;\">\n",
       "      <th></th>\n",
       "      <th>X1</th>\n",
       "      <th>X2</th>\n",
       "      <th>X3</th>\n",
       "      <th>X4</th>\n",
       "      <th>X5</th>\n",
       "      <th>X6</th>\n",
       "      <th>X7</th>\n",
       "      <th>X8</th>\n",
       "      <th>X9</th>\n",
       "      <th>X10</th>\n",
       "      <th>...</th>\n",
       "      <th>X49</th>\n",
       "      <th>X50</th>\n",
       "      <th>X51</th>\n",
       "      <th>X52</th>\n",
       "      <th>X53</th>\n",
       "      <th>X54</th>\n",
       "      <th>X55</th>\n",
       "      <th>X56</th>\n",
       "      <th>X57</th>\n",
       "      <th>Y</th>\n",
       "    </tr>\n",
       "  </thead>\n",
       "  <tbody>\n",
       "    <tr>\n",
       "      <th>0</th>\n",
       "      <td>0.00</td>\n",
       "      <td>0.00</td>\n",
       "      <td>4.34</td>\n",
       "      <td>0.00</td>\n",
       "      <td>0.00</td>\n",
       "      <td>0.00</td>\n",
       "      <td>0.00</td>\n",
       "      <td>0.00</td>\n",
       "      <td>0.0</td>\n",
       "      <td>0.00</td>\n",
       "      <td>...</td>\n",
       "      <td>0.0</td>\n",
       "      <td>0.000</td>\n",
       "      <td>0.0</td>\n",
       "      <td>1.342</td>\n",
       "      <td>0.000</td>\n",
       "      <td>0.000</td>\n",
       "      <td>1.200</td>\n",
       "      <td>2</td>\n",
       "      <td>12</td>\n",
       "      <td>0</td>\n",
       "    </tr>\n",
       "    <tr>\n",
       "      <th>1</th>\n",
       "      <td>0.00</td>\n",
       "      <td>0.56</td>\n",
       "      <td>0.56</td>\n",
       "      <td>0.00</td>\n",
       "      <td>1.12</td>\n",
       "      <td>0.56</td>\n",
       "      <td>2.25</td>\n",
       "      <td>0.00</td>\n",
       "      <td>0.0</td>\n",
       "      <td>0.56</td>\n",
       "      <td>...</td>\n",
       "      <td>0.0</td>\n",
       "      <td>0.083</td>\n",
       "      <td>0.0</td>\n",
       "      <td>0.503</td>\n",
       "      <td>0.000</td>\n",
       "      <td>0.083</td>\n",
       "      <td>16.304</td>\n",
       "      <td>148</td>\n",
       "      <td>375</td>\n",
       "      <td>1</td>\n",
       "    </tr>\n",
       "    <tr>\n",
       "      <th>2</th>\n",
       "      <td>0.00</td>\n",
       "      <td>0.00</td>\n",
       "      <td>0.00</td>\n",
       "      <td>0.00</td>\n",
       "      <td>0.00</td>\n",
       "      <td>0.00</td>\n",
       "      <td>0.00</td>\n",
       "      <td>0.00</td>\n",
       "      <td>0.0</td>\n",
       "      <td>0.00</td>\n",
       "      <td>...</td>\n",
       "      <td>0.0</td>\n",
       "      <td>0.000</td>\n",
       "      <td>0.0</td>\n",
       "      <td>0.000</td>\n",
       "      <td>0.000</td>\n",
       "      <td>0.000</td>\n",
       "      <td>1.000</td>\n",
       "      <td>1</td>\n",
       "      <td>5</td>\n",
       "      <td>0</td>\n",
       "    </tr>\n",
       "    <tr>\n",
       "      <th>3</th>\n",
       "      <td>0.64</td>\n",
       "      <td>0.00</td>\n",
       "      <td>0.64</td>\n",
       "      <td>0.00</td>\n",
       "      <td>1.93</td>\n",
       "      <td>0.00</td>\n",
       "      <td>0.00</td>\n",
       "      <td>0.00</td>\n",
       "      <td>0.0</td>\n",
       "      <td>0.00</td>\n",
       "      <td>...</td>\n",
       "      <td>0.0</td>\n",
       "      <td>0.000</td>\n",
       "      <td>0.0</td>\n",
       "      <td>0.462</td>\n",
       "      <td>0.370</td>\n",
       "      <td>0.000</td>\n",
       "      <td>2.440</td>\n",
       "      <td>22</td>\n",
       "      <td>122</td>\n",
       "      <td>1</td>\n",
       "    </tr>\n",
       "    <tr>\n",
       "      <th>4</th>\n",
       "      <td>0.58</td>\n",
       "      <td>0.00</td>\n",
       "      <td>0.00</td>\n",
       "      <td>35.46</td>\n",
       "      <td>0.58</td>\n",
       "      <td>0.00</td>\n",
       "      <td>0.58</td>\n",
       "      <td>0.58</td>\n",
       "      <td>0.0</td>\n",
       "      <td>0.00</td>\n",
       "      <td>...</td>\n",
       "      <td>0.0</td>\n",
       "      <td>0.000</td>\n",
       "      <td>0.0</td>\n",
       "      <td>0.239</td>\n",
       "      <td>0.239</td>\n",
       "      <td>0.000</td>\n",
       "      <td>3.338</td>\n",
       "      <td>123</td>\n",
       "      <td>207</td>\n",
       "      <td>1</td>\n",
       "    </tr>\n",
       "  </tbody>\n",
       "</table>\n",
       "<p>5 rows × 58 columns</p>\n",
       "</div>"
      ],
      "text/plain": [
       "     X1    X2    X3     X4    X5    X6    X7    X8   X9   X10  ...  X49  \\\n",
       "0  0.00  0.00  4.34   0.00  0.00  0.00  0.00  0.00  0.0  0.00  ...  0.0   \n",
       "1  0.00  0.56  0.56   0.00  1.12  0.56  2.25  0.00  0.0  0.56  ...  0.0   \n",
       "2  0.00  0.00  0.00   0.00  0.00  0.00  0.00  0.00  0.0  0.00  ...  0.0   \n",
       "3  0.64  0.00  0.64   0.00  1.93  0.00  0.00  0.00  0.0  0.00  ...  0.0   \n",
       "4  0.58  0.00  0.00  35.46  0.58  0.00  0.58  0.58  0.0  0.00  ...  0.0   \n",
       "\n",
       "     X50  X51    X52    X53    X54     X55  X56  X57  Y  \n",
       "0  0.000  0.0  1.342  0.000  0.000   1.200    2   12  0  \n",
       "1  0.083  0.0  0.503  0.000  0.083  16.304  148  375  1  \n",
       "2  0.000  0.0  0.000  0.000  0.000   1.000    1    5  0  \n",
       "3  0.000  0.0  0.462  0.370  0.000   2.440   22  122  1  \n",
       "4  0.000  0.0  0.239  0.239  0.000   3.338  123  207  1  \n",
       "\n",
       "[5 rows x 58 columns]"
      ]
     },
     "execution_count": 6,
     "metadata": {},
     "output_type": "execute_result"
    }
   ],
   "source": [
    "data.head()"
   ]
  },
  {
   "cell_type": "code",
   "execution_count": 7,
   "id": "0e71bec4-dee9-477a-a7aa-6ff154f625ec",
   "metadata": {},
   "outputs": [],
   "source": [
    "# Observe many columns have 0 values"
   ]
  },
  {
   "cell_type": "code",
   "execution_count": 8,
   "id": "89a1aac2-bae9-4c85-ace7-fd2363a8c4fd",
   "metadata": {
    "tags": []
   },
   "outputs": [
    {
     "data": {
      "text/html": [
       "<div>\n",
       "<style scoped>\n",
       "    .dataframe tbody tr th:only-of-type {\n",
       "        vertical-align: middle;\n",
       "    }\n",
       "\n",
       "    .dataframe tbody tr th {\n",
       "        vertical-align: top;\n",
       "    }\n",
       "\n",
       "    .dataframe thead th {\n",
       "        text-align: right;\n",
       "    }\n",
       "</style>\n",
       "<table border=\"1\" class=\"dataframe\">\n",
       "  <thead>\n",
       "    <tr style=\"text-align: right;\">\n",
       "      <th></th>\n",
       "      <th>X1</th>\n",
       "      <th>X2</th>\n",
       "      <th>X3</th>\n",
       "      <th>X4</th>\n",
       "      <th>X5</th>\n",
       "      <th>X6</th>\n",
       "      <th>X7</th>\n",
       "      <th>X8</th>\n",
       "      <th>X9</th>\n",
       "      <th>X10</th>\n",
       "      <th>...</th>\n",
       "      <th>X49</th>\n",
       "      <th>X50</th>\n",
       "      <th>X51</th>\n",
       "      <th>X52</th>\n",
       "      <th>X53</th>\n",
       "      <th>X54</th>\n",
       "      <th>X55</th>\n",
       "      <th>X56</th>\n",
       "      <th>X57</th>\n",
       "      <th>Y</th>\n",
       "    </tr>\n",
       "  </thead>\n",
       "  <tbody>\n",
       "    <tr>\n",
       "      <th>count</th>\n",
       "      <td>3910.000000</td>\n",
       "      <td>3910.000000</td>\n",
       "      <td>3910.000000</td>\n",
       "      <td>3910.000000</td>\n",
       "      <td>3910.000000</td>\n",
       "      <td>3910.000000</td>\n",
       "      <td>3910.000000</td>\n",
       "      <td>3910.000000</td>\n",
       "      <td>3910.000000</td>\n",
       "      <td>3910.000000</td>\n",
       "      <td>...</td>\n",
       "      <td>3910.000000</td>\n",
       "      <td>3910.000000</td>\n",
       "      <td>3910.000000</td>\n",
       "      <td>3910.000000</td>\n",
       "      <td>3910.000000</td>\n",
       "      <td>3910.000000</td>\n",
       "      <td>3910.000000</td>\n",
       "      <td>3910.000000</td>\n",
       "      <td>3910.000000</td>\n",
       "      <td>3910.000000</td>\n",
       "    </tr>\n",
       "    <tr>\n",
       "      <th>mean</th>\n",
       "      <td>0.102990</td>\n",
       "      <td>0.206419</td>\n",
       "      <td>0.284419</td>\n",
       "      <td>0.062074</td>\n",
       "      <td>0.311309</td>\n",
       "      <td>0.095974</td>\n",
       "      <td>0.112320</td>\n",
       "      <td>0.106041</td>\n",
       "      <td>0.091146</td>\n",
       "      <td>0.244345</td>\n",
       "      <td>...</td>\n",
       "      <td>0.037493</td>\n",
       "      <td>0.139252</td>\n",
       "      <td>0.015876</td>\n",
       "      <td>0.272971</td>\n",
       "      <td>0.077820</td>\n",
       "      <td>0.043828</td>\n",
       "      <td>5.047150</td>\n",
       "      <td>52.338107</td>\n",
       "      <td>283.059079</td>\n",
       "      <td>0.392327</td>\n",
       "    </tr>\n",
       "    <tr>\n",
       "      <th>std</th>\n",
       "      <td>0.296322</td>\n",
       "      <td>1.253828</td>\n",
       "      <td>0.504352</td>\n",
       "      <td>1.369361</td>\n",
       "      <td>0.656195</td>\n",
       "      <td>0.261455</td>\n",
       "      <td>0.389516</td>\n",
       "      <td>0.398694</td>\n",
       "      <td>0.271417</td>\n",
       "      <td>0.667065</td>\n",
       "      <td>...</td>\n",
       "      <td>0.235054</td>\n",
       "      <td>0.276309</td>\n",
       "      <td>0.083600</td>\n",
       "      <td>0.858634</td>\n",
       "      <td>0.256991</td>\n",
       "      <td>0.452862</td>\n",
       "      <td>31.397035</td>\n",
       "      <td>204.445218</td>\n",
       "      <td>578.339858</td>\n",
       "      <td>0.488331</td>\n",
       "    </tr>\n",
       "    <tr>\n",
       "      <th>min</th>\n",
       "      <td>0.000000</td>\n",
       "      <td>0.000000</td>\n",
       "      <td>0.000000</td>\n",
       "      <td>0.000000</td>\n",
       "      <td>0.000000</td>\n",
       "      <td>0.000000</td>\n",
       "      <td>0.000000</td>\n",
       "      <td>0.000000</td>\n",
       "      <td>0.000000</td>\n",
       "      <td>0.000000</td>\n",
       "      <td>...</td>\n",
       "      <td>0.000000</td>\n",
       "      <td>0.000000</td>\n",
       "      <td>0.000000</td>\n",
       "      <td>0.000000</td>\n",
       "      <td>0.000000</td>\n",
       "      <td>0.000000</td>\n",
       "      <td>1.000000</td>\n",
       "      <td>1.000000</td>\n",
       "      <td>1.000000</td>\n",
       "      <td>0.000000</td>\n",
       "    </tr>\n",
       "    <tr>\n",
       "      <th>25%</th>\n",
       "      <td>0.000000</td>\n",
       "      <td>0.000000</td>\n",
       "      <td>0.000000</td>\n",
       "      <td>0.000000</td>\n",
       "      <td>0.000000</td>\n",
       "      <td>0.000000</td>\n",
       "      <td>0.000000</td>\n",
       "      <td>0.000000</td>\n",
       "      <td>0.000000</td>\n",
       "      <td>0.000000</td>\n",
       "      <td>...</td>\n",
       "      <td>0.000000</td>\n",
       "      <td>0.000000</td>\n",
       "      <td>0.000000</td>\n",
       "      <td>0.000000</td>\n",
       "      <td>0.000000</td>\n",
       "      <td>0.000000</td>\n",
       "      <td>1.580750</td>\n",
       "      <td>6.000000</td>\n",
       "      <td>35.000000</td>\n",
       "      <td>0.000000</td>\n",
       "    </tr>\n",
       "    <tr>\n",
       "      <th>50%</th>\n",
       "      <td>0.000000</td>\n",
       "      <td>0.000000</td>\n",
       "      <td>0.000000</td>\n",
       "      <td>0.000000</td>\n",
       "      <td>0.000000</td>\n",
       "      <td>0.000000</td>\n",
       "      <td>0.000000</td>\n",
       "      <td>0.000000</td>\n",
       "      <td>0.000000</td>\n",
       "      <td>0.000000</td>\n",
       "      <td>...</td>\n",
       "      <td>0.000000</td>\n",
       "      <td>0.066000</td>\n",
       "      <td>0.000000</td>\n",
       "      <td>0.000000</td>\n",
       "      <td>0.000000</td>\n",
       "      <td>0.000000</td>\n",
       "      <td>2.263500</td>\n",
       "      <td>15.000000</td>\n",
       "      <td>94.000000</td>\n",
       "      <td>0.000000</td>\n",
       "    </tr>\n",
       "    <tr>\n",
       "      <th>75%</th>\n",
       "      <td>0.000000</td>\n",
       "      <td>0.000000</td>\n",
       "      <td>0.430000</td>\n",
       "      <td>0.000000</td>\n",
       "      <td>0.387500</td>\n",
       "      <td>0.000000</td>\n",
       "      <td>0.000000</td>\n",
       "      <td>0.000000</td>\n",
       "      <td>0.000000</td>\n",
       "      <td>0.170000</td>\n",
       "      <td>...</td>\n",
       "      <td>0.000000</td>\n",
       "      <td>0.188000</td>\n",
       "      <td>0.000000</td>\n",
       "      <td>0.317250</td>\n",
       "      <td>0.054000</td>\n",
       "      <td>0.000000</td>\n",
       "      <td>3.714000</td>\n",
       "      <td>43.000000</td>\n",
       "      <td>264.000000</td>\n",
       "      <td>1.000000</td>\n",
       "    </tr>\n",
       "    <tr>\n",
       "      <th>max</th>\n",
       "      <td>4.340000</td>\n",
       "      <td>14.280000</td>\n",
       "      <td>4.540000</td>\n",
       "      <td>42.810000</td>\n",
       "      <td>9.090000</td>\n",
       "      <td>3.570000</td>\n",
       "      <td>7.270000</td>\n",
       "      <td>11.110000</td>\n",
       "      <td>3.230000</td>\n",
       "      <td>18.180000</td>\n",
       "      <td>...</td>\n",
       "      <td>4.385000</td>\n",
       "      <td>9.752000</td>\n",
       "      <td>2.777000</td>\n",
       "      <td>32.478000</td>\n",
       "      <td>6.003000</td>\n",
       "      <td>19.829000</td>\n",
       "      <td>1102.500000</td>\n",
       "      <td>9989.000000</td>\n",
       "      <td>10062.000000</td>\n",
       "      <td>1.000000</td>\n",
       "    </tr>\n",
       "  </tbody>\n",
       "</table>\n",
       "<p>8 rows × 58 columns</p>\n",
       "</div>"
      ],
      "text/plain": [
       "                X1           X2           X3           X4           X5  \\\n",
       "count  3910.000000  3910.000000  3910.000000  3910.000000  3910.000000   \n",
       "mean      0.102990     0.206419     0.284419     0.062074     0.311309   \n",
       "std       0.296322     1.253828     0.504352     1.369361     0.656195   \n",
       "min       0.000000     0.000000     0.000000     0.000000     0.000000   \n",
       "25%       0.000000     0.000000     0.000000     0.000000     0.000000   \n",
       "50%       0.000000     0.000000     0.000000     0.000000     0.000000   \n",
       "75%       0.000000     0.000000     0.430000     0.000000     0.387500   \n",
       "max       4.340000    14.280000     4.540000    42.810000     9.090000   \n",
       "\n",
       "                X6           X7           X8           X9          X10  ...  \\\n",
       "count  3910.000000  3910.000000  3910.000000  3910.000000  3910.000000  ...   \n",
       "mean      0.095974     0.112320     0.106041     0.091146     0.244345  ...   \n",
       "std       0.261455     0.389516     0.398694     0.271417     0.667065  ...   \n",
       "min       0.000000     0.000000     0.000000     0.000000     0.000000  ...   \n",
       "25%       0.000000     0.000000     0.000000     0.000000     0.000000  ...   \n",
       "50%       0.000000     0.000000     0.000000     0.000000     0.000000  ...   \n",
       "75%       0.000000     0.000000     0.000000     0.000000     0.170000  ...   \n",
       "max       3.570000     7.270000    11.110000     3.230000    18.180000  ...   \n",
       "\n",
       "               X49          X50          X51          X52          X53  \\\n",
       "count  3910.000000  3910.000000  3910.000000  3910.000000  3910.000000   \n",
       "mean      0.037493     0.139252     0.015876     0.272971     0.077820   \n",
       "std       0.235054     0.276309     0.083600     0.858634     0.256991   \n",
       "min       0.000000     0.000000     0.000000     0.000000     0.000000   \n",
       "25%       0.000000     0.000000     0.000000     0.000000     0.000000   \n",
       "50%       0.000000     0.066000     0.000000     0.000000     0.000000   \n",
       "75%       0.000000     0.188000     0.000000     0.317250     0.054000   \n",
       "max       4.385000     9.752000     2.777000    32.478000     6.003000   \n",
       "\n",
       "               X54          X55          X56           X57            Y  \n",
       "count  3910.000000  3910.000000  3910.000000   3910.000000  3910.000000  \n",
       "mean      0.043828     5.047150    52.338107    283.059079     0.392327  \n",
       "std       0.452862    31.397035   204.445218    578.339858     0.488331  \n",
       "min       0.000000     1.000000     1.000000      1.000000     0.000000  \n",
       "25%       0.000000     1.580750     6.000000     35.000000     0.000000  \n",
       "50%       0.000000     2.263500    15.000000     94.000000     0.000000  \n",
       "75%       0.000000     3.714000    43.000000    264.000000     1.000000  \n",
       "max      19.829000  1102.500000  9989.000000  10062.000000     1.000000  \n",
       "\n",
       "[8 rows x 58 columns]"
      ]
     },
     "execution_count": 8,
     "metadata": {},
     "output_type": "execute_result"
    }
   ],
   "source": [
    "data.describe()"
   ]
  },
  {
   "cell_type": "markdown",
   "id": "e234a44f-9d8f-4026-a000-366cd44abc62",
   "metadata": {
    "tags": []
   },
   "source": [
    "`Observe that there are no NaN columns in dataset but many columns have 0 as value even at 75 percentile, these columns also have a very low variance which makes them not a suitable fetaure.\n",
    "\n",
    "We select features with at least 50 precentile value being non-zero`"
   ]
  },
  {
   "cell_type": "code",
   "execution_count": 9,
   "id": "706ec70c-b32c-45da-8b3b-ee049d5ba713",
   "metadata": {
    "tags": []
   },
   "outputs": [],
   "source": [
    "data_desc = data.describe()"
   ]
  },
  {
   "cell_type": "code",
   "execution_count": 10,
   "id": "29d2cb27-6370-4693-91e9-24dc6a87fc35",
   "metadata": {
    "tags": []
   },
   "outputs": [],
   "source": [
    "select_feat = data_desc.loc['50%'][data_desc.loc['50%']!=0]"
   ]
  },
  {
   "cell_type": "code",
   "execution_count": 11,
   "id": "6822be15-4357-4d9e-a876-7f5e039c4c2d",
   "metadata": {
    "tags": []
   },
   "outputs": [
    {
     "data": {
      "text/plain": [
       "X12     0.1400\n",
       "X19     1.3100\n",
       "X21     0.2350\n",
       "X50     0.0660\n",
       "X55     2.2635\n",
       "X56    15.0000\n",
       "X57    94.0000\n",
       "Name: 50%, dtype: float64"
      ]
     },
     "execution_count": 11,
     "metadata": {},
     "output_type": "execute_result"
    }
   ],
   "source": [
    "select_feat"
   ]
  },
  {
   "cell_type": "code",
   "execution_count": 12,
   "id": "2b21f6e7-d6a5-441c-bc76-07e2b3d1a6e1",
   "metadata": {
    "tags": []
   },
   "outputs": [],
   "source": [
    "select_df = data[['X12', 'X19', 'X21', 'X50', 'X55', 'X56', 'X57','Y']]"
   ]
  },
  {
   "cell_type": "code",
   "execution_count": 13,
   "id": "b7fbea81-26ee-4b3f-8fea-5f1484fa31fe",
   "metadata": {
    "tags": []
   },
   "outputs": [
    {
     "data": {
      "text/html": [
       "<div>\n",
       "<style scoped>\n",
       "    .dataframe tbody tr th:only-of-type {\n",
       "        vertical-align: middle;\n",
       "    }\n",
       "\n",
       "    .dataframe tbody tr th {\n",
       "        vertical-align: top;\n",
       "    }\n",
       "\n",
       "    .dataframe thead th {\n",
       "        text-align: right;\n",
       "    }\n",
       "</style>\n",
       "<table border=\"1\" class=\"dataframe\">\n",
       "  <thead>\n",
       "    <tr style=\"text-align: right;\">\n",
       "      <th></th>\n",
       "      <th>X12</th>\n",
       "      <th>X19</th>\n",
       "      <th>X21</th>\n",
       "      <th>X50</th>\n",
       "      <th>X55</th>\n",
       "      <th>X56</th>\n",
       "      <th>X57</th>\n",
       "      <th>Y</th>\n",
       "    </tr>\n",
       "  </thead>\n",
       "  <tbody>\n",
       "    <tr>\n",
       "      <th>count</th>\n",
       "      <td>3910.000000</td>\n",
       "      <td>3910.000000</td>\n",
       "      <td>3910.000000</td>\n",
       "      <td>3910.000000</td>\n",
       "      <td>3910.000000</td>\n",
       "      <td>3910.000000</td>\n",
       "      <td>3910.000000</td>\n",
       "      <td>3910.000000</td>\n",
       "    </tr>\n",
       "    <tr>\n",
       "      <th>mean</th>\n",
       "      <td>0.553685</td>\n",
       "      <td>1.660939</td>\n",
       "      <td>0.818253</td>\n",
       "      <td>0.139252</td>\n",
       "      <td>5.047150</td>\n",
       "      <td>52.338107</td>\n",
       "      <td>283.059079</td>\n",
       "      <td>0.392327</td>\n",
       "    </tr>\n",
       "    <tr>\n",
       "      <th>std</th>\n",
       "      <td>0.876412</td>\n",
       "      <td>1.760214</td>\n",
       "      <td>1.210078</td>\n",
       "      <td>0.276309</td>\n",
       "      <td>31.397035</td>\n",
       "      <td>204.445218</td>\n",
       "      <td>578.339858</td>\n",
       "      <td>0.488331</td>\n",
       "    </tr>\n",
       "    <tr>\n",
       "      <th>min</th>\n",
       "      <td>0.000000</td>\n",
       "      <td>0.000000</td>\n",
       "      <td>0.000000</td>\n",
       "      <td>0.000000</td>\n",
       "      <td>1.000000</td>\n",
       "      <td>1.000000</td>\n",
       "      <td>1.000000</td>\n",
       "      <td>0.000000</td>\n",
       "    </tr>\n",
       "    <tr>\n",
       "      <th>25%</th>\n",
       "      <td>0.000000</td>\n",
       "      <td>0.000000</td>\n",
       "      <td>0.000000</td>\n",
       "      <td>0.000000</td>\n",
       "      <td>1.580750</td>\n",
       "      <td>6.000000</td>\n",
       "      <td>35.000000</td>\n",
       "      <td>0.000000</td>\n",
       "    </tr>\n",
       "    <tr>\n",
       "      <th>50%</th>\n",
       "      <td>0.140000</td>\n",
       "      <td>1.310000</td>\n",
       "      <td>0.235000</td>\n",
       "      <td>0.066000</td>\n",
       "      <td>2.263500</td>\n",
       "      <td>15.000000</td>\n",
       "      <td>94.000000</td>\n",
       "      <td>0.000000</td>\n",
       "    </tr>\n",
       "    <tr>\n",
       "      <th>75%</th>\n",
       "      <td>0.820000</td>\n",
       "      <td>2.637500</td>\n",
       "      <td>1.270000</td>\n",
       "      <td>0.188000</td>\n",
       "      <td>3.714000</td>\n",
       "      <td>43.000000</td>\n",
       "      <td>264.000000</td>\n",
       "      <td>1.000000</td>\n",
       "    </tr>\n",
       "    <tr>\n",
       "      <th>max</th>\n",
       "      <td>9.670000</td>\n",
       "      <td>18.750000</td>\n",
       "      <td>11.110000</td>\n",
       "      <td>9.752000</td>\n",
       "      <td>1102.500000</td>\n",
       "      <td>9989.000000</td>\n",
       "      <td>10062.000000</td>\n",
       "      <td>1.000000</td>\n",
       "    </tr>\n",
       "  </tbody>\n",
       "</table>\n",
       "</div>"
      ],
      "text/plain": [
       "               X12          X19          X21          X50          X55  \\\n",
       "count  3910.000000  3910.000000  3910.000000  3910.000000  3910.000000   \n",
       "mean      0.553685     1.660939     0.818253     0.139252     5.047150   \n",
       "std       0.876412     1.760214     1.210078     0.276309    31.397035   \n",
       "min       0.000000     0.000000     0.000000     0.000000     1.000000   \n",
       "25%       0.000000     0.000000     0.000000     0.000000     1.580750   \n",
       "50%       0.140000     1.310000     0.235000     0.066000     2.263500   \n",
       "75%       0.820000     2.637500     1.270000     0.188000     3.714000   \n",
       "max       9.670000    18.750000    11.110000     9.752000  1102.500000   \n",
       "\n",
       "               X56           X57            Y  \n",
       "count  3910.000000   3910.000000  3910.000000  \n",
       "mean     52.338107    283.059079     0.392327  \n",
       "std     204.445218    578.339858     0.488331  \n",
       "min       1.000000      1.000000     0.000000  \n",
       "25%       6.000000     35.000000     0.000000  \n",
       "50%      15.000000     94.000000     0.000000  \n",
       "75%      43.000000    264.000000     1.000000  \n",
       "max    9989.000000  10062.000000     1.000000  "
      ]
     },
     "execution_count": 13,
     "metadata": {},
     "output_type": "execute_result"
    }
   ],
   "source": [
    "select_df.describe()"
   ]
  },
  {
   "cell_type": "markdown",
   "id": "e796f0df-3245-414a-82d6-fd39d5f70fd7",
   "metadata": {
    "tags": []
   },
   "source": [
    "`We look for outlier values , \n",
    "feature wise and remove some 110 \n",
    "values in total across fetaures \n",
    "X57,X56,X55,X50`"
   ]
  },
  {
   "cell_type": "code",
   "execution_count": 14,
   "id": "7aa04765-2408-432f-8337-abb2f20e69e8",
   "metadata": {
    "tags": []
   },
   "outputs": [],
   "source": [
    "# select_feat = select_feat.sample(frac=1,random_state=72,ignore_index=True)"
   ]
  },
  {
   "cell_type": "code",
   "execution_count": 15,
   "id": "b13e5477-c4fa-4aad-a338-5081bd28d96a",
   "metadata": {
    "tags": []
   },
   "outputs": [],
   "source": [
    "select_df_no_outliers = select_df[(select_df.X57 < 3000)]\n",
    "select_df_no_outliers = select_df_no_outliers[select_df_no_outliers.X56 < 1000]\n",
    "select_df_no_outliers = select_df_no_outliers[select_df_no_outliers.X55 < 50]\n",
    "select_df_no_outliers = select_df_no_outliers[select_df_no_outliers.X50 < 1]"
   ]
  },
  {
   "cell_type": "code",
   "execution_count": 16,
   "id": "2b92a921-c894-4246-b91e-7e75d10f1694",
   "metadata": {
    "tags": []
   },
   "outputs": [
    {
     "data": {
      "text/html": [
       "<div>\n",
       "<style scoped>\n",
       "    .dataframe tbody tr th:only-of-type {\n",
       "        vertical-align: middle;\n",
       "    }\n",
       "\n",
       "    .dataframe tbody tr th {\n",
       "        vertical-align: top;\n",
       "    }\n",
       "\n",
       "    .dataframe thead th {\n",
       "        text-align: right;\n",
       "    }\n",
       "</style>\n",
       "<table border=\"1\" class=\"dataframe\">\n",
       "  <thead>\n",
       "    <tr style=\"text-align: right;\">\n",
       "      <th></th>\n",
       "      <th>X12</th>\n",
       "      <th>X19</th>\n",
       "      <th>X21</th>\n",
       "      <th>X50</th>\n",
       "      <th>X55</th>\n",
       "      <th>X56</th>\n",
       "      <th>X57</th>\n",
       "      <th>Y</th>\n",
       "    </tr>\n",
       "  </thead>\n",
       "  <tbody>\n",
       "    <tr>\n",
       "      <th>count</th>\n",
       "      <td>3793.000000</td>\n",
       "      <td>3793.000000</td>\n",
       "      <td>3793.000000</td>\n",
       "      <td>3793.000000</td>\n",
       "      <td>3793.000000</td>\n",
       "      <td>3793.000000</td>\n",
       "      <td>3793.000000</td>\n",
       "      <td>3793.000000</td>\n",
       "    </tr>\n",
       "    <tr>\n",
       "      <th>mean</th>\n",
       "      <td>0.552984</td>\n",
       "      <td>1.675829</td>\n",
       "      <td>0.805009</td>\n",
       "      <td>0.124044</td>\n",
       "      <td>3.160672</td>\n",
       "      <td>40.962826</td>\n",
       "      <td>235.016082</td>\n",
       "      <td>0.385447</td>\n",
       "    </tr>\n",
       "    <tr>\n",
       "      <th>std</th>\n",
       "      <td>0.879121</td>\n",
       "      <td>1.768352</td>\n",
       "      <td>1.191685</td>\n",
       "      <td>0.168805</td>\n",
       "      <td>3.201992</td>\n",
       "      <td>89.367040</td>\n",
       "      <td>373.214415</td>\n",
       "      <td>0.486765</td>\n",
       "    </tr>\n",
       "    <tr>\n",
       "      <th>min</th>\n",
       "      <td>0.000000</td>\n",
       "      <td>0.000000</td>\n",
       "      <td>0.000000</td>\n",
       "      <td>0.000000</td>\n",
       "      <td>1.000000</td>\n",
       "      <td>1.000000</td>\n",
       "      <td>1.000000</td>\n",
       "      <td>0.000000</td>\n",
       "    </tr>\n",
       "    <tr>\n",
       "      <th>25%</th>\n",
       "      <td>0.000000</td>\n",
       "      <td>0.000000</td>\n",
       "      <td>0.000000</td>\n",
       "      <td>0.000000</td>\n",
       "      <td>1.560000</td>\n",
       "      <td>6.000000</td>\n",
       "      <td>34.000000</td>\n",
       "      <td>0.000000</td>\n",
       "    </tr>\n",
       "    <tr>\n",
       "      <th>50%</th>\n",
       "      <td>0.140000</td>\n",
       "      <td>1.320000</td>\n",
       "      <td>0.230000</td>\n",
       "      <td>0.064000</td>\n",
       "      <td>2.227000</td>\n",
       "      <td>14.000000</td>\n",
       "      <td>92.000000</td>\n",
       "      <td>0.000000</td>\n",
       "    </tr>\n",
       "    <tr>\n",
       "      <th>75%</th>\n",
       "      <td>0.810000</td>\n",
       "      <td>2.640000</td>\n",
       "      <td>1.250000</td>\n",
       "      <td>0.183000</td>\n",
       "      <td>3.621000</td>\n",
       "      <td>39.000000</td>\n",
       "      <td>249.000000</td>\n",
       "      <td>1.000000</td>\n",
       "    </tr>\n",
       "    <tr>\n",
       "      <th>max</th>\n",
       "      <td>9.670000</td>\n",
       "      <td>18.750000</td>\n",
       "      <td>11.110000</td>\n",
       "      <td>0.976000</td>\n",
       "      <td>49.866000</td>\n",
       "      <td>887.000000</td>\n",
       "      <td>2923.000000</td>\n",
       "      <td>1.000000</td>\n",
       "    </tr>\n",
       "  </tbody>\n",
       "</table>\n",
       "</div>"
      ],
      "text/plain": [
       "               X12          X19          X21          X50          X55  \\\n",
       "count  3793.000000  3793.000000  3793.000000  3793.000000  3793.000000   \n",
       "mean      0.552984     1.675829     0.805009     0.124044     3.160672   \n",
       "std       0.879121     1.768352     1.191685     0.168805     3.201992   \n",
       "min       0.000000     0.000000     0.000000     0.000000     1.000000   \n",
       "25%       0.000000     0.000000     0.000000     0.000000     1.560000   \n",
       "50%       0.140000     1.320000     0.230000     0.064000     2.227000   \n",
       "75%       0.810000     2.640000     1.250000     0.183000     3.621000   \n",
       "max       9.670000    18.750000    11.110000     0.976000    49.866000   \n",
       "\n",
       "               X56          X57            Y  \n",
       "count  3793.000000  3793.000000  3793.000000  \n",
       "mean     40.962826   235.016082     0.385447  \n",
       "std      89.367040   373.214415     0.486765  \n",
       "min       1.000000     1.000000     0.000000  \n",
       "25%       6.000000    34.000000     0.000000  \n",
       "50%      14.000000    92.000000     0.000000  \n",
       "75%      39.000000   249.000000     1.000000  \n",
       "max     887.000000  2923.000000     1.000000  "
      ]
     },
     "execution_count": 16,
     "metadata": {},
     "output_type": "execute_result"
    }
   ],
   "source": [
    "select_df_no_outliers.describe()"
   ]
  },
  {
   "cell_type": "markdown",
   "id": "4246d3bf-0be7-4b6a-a597-6c8f1e784d29",
   "metadata": {
    "tags": []
   },
   "source": [
    "`Removing these outlier values helps in \n",
    "reducing the value of mean, variance, sd \n",
    "bringing them closer to general distribution of values in selected fetaures and helps the model in generalizing well`"
   ]
  },
  {
   "cell_type": "code",
   "execution_count": 17,
   "id": "594ace7e-7434-4380-a9a9-b6cb7a65883a",
   "metadata": {
    "tags": []
   },
   "outputs": [],
   "source": [
    "select_df_no_outliers = select_df_no_outliers.sample(frac=1,random_state=10,ignore_index=True)"
   ]
  },
  {
   "cell_type": "code",
   "execution_count": 18,
   "id": "8758c5d7-a87c-4b0b-a150-91be86070286",
   "metadata": {
    "tags": []
   },
   "outputs": [
    {
     "data": {
      "text/html": [
       "<div>\n",
       "<style scoped>\n",
       "    .dataframe tbody tr th:only-of-type {\n",
       "        vertical-align: middle;\n",
       "    }\n",
       "\n",
       "    .dataframe tbody tr th {\n",
       "        vertical-align: top;\n",
       "    }\n",
       "\n",
       "    .dataframe thead th {\n",
       "        text-align: right;\n",
       "    }\n",
       "</style>\n",
       "<table border=\"1\" class=\"dataframe\">\n",
       "  <thead>\n",
       "    <tr style=\"text-align: right;\">\n",
       "      <th></th>\n",
       "      <th>X12</th>\n",
       "      <th>X19</th>\n",
       "      <th>X21</th>\n",
       "      <th>X50</th>\n",
       "      <th>X55</th>\n",
       "      <th>X56</th>\n",
       "      <th>X57</th>\n",
       "      <th>Y</th>\n",
       "    </tr>\n",
       "  </thead>\n",
       "  <tbody>\n",
       "    <tr>\n",
       "      <th>0</th>\n",
       "      <td>0.00</td>\n",
       "      <td>0.00</td>\n",
       "      <td>0.00</td>\n",
       "      <td>0.578</td>\n",
       "      <td>3.800</td>\n",
       "      <td>15</td>\n",
       "      <td>19</td>\n",
       "      <td>1</td>\n",
       "    </tr>\n",
       "    <tr>\n",
       "      <th>1</th>\n",
       "      <td>0.00</td>\n",
       "      <td>0.00</td>\n",
       "      <td>0.00</td>\n",
       "      <td>0.763</td>\n",
       "      <td>2.285</td>\n",
       "      <td>10</td>\n",
       "      <td>16</td>\n",
       "      <td>0</td>\n",
       "    </tr>\n",
       "    <tr>\n",
       "      <th>2</th>\n",
       "      <td>0.28</td>\n",
       "      <td>1.97</td>\n",
       "      <td>0.00</td>\n",
       "      <td>0.103</td>\n",
       "      <td>1.403</td>\n",
       "      <td>18</td>\n",
       "      <td>80</td>\n",
       "      <td>0</td>\n",
       "    </tr>\n",
       "    <tr>\n",
       "      <th>3</th>\n",
       "      <td>3.22</td>\n",
       "      <td>0.00</td>\n",
       "      <td>0.00</td>\n",
       "      <td>0.526</td>\n",
       "      <td>1.571</td>\n",
       "      <td>3</td>\n",
       "      <td>11</td>\n",
       "      <td>0</td>\n",
       "    </tr>\n",
       "    <tr>\n",
       "      <th>4</th>\n",
       "      <td>3.22</td>\n",
       "      <td>0.00</td>\n",
       "      <td>0.00</td>\n",
       "      <td>0.000</td>\n",
       "      <td>1.818</td>\n",
       "      <td>9</td>\n",
       "      <td>20</td>\n",
       "      <td>0</td>\n",
       "    </tr>\n",
       "    <tr>\n",
       "      <th>...</th>\n",
       "      <td>...</td>\n",
       "      <td>...</td>\n",
       "      <td>...</td>\n",
       "      <td>...</td>\n",
       "      <td>...</td>\n",
       "      <td>...</td>\n",
       "      <td>...</td>\n",
       "      <td>...</td>\n",
       "    </tr>\n",
       "    <tr>\n",
       "      <th>3788</th>\n",
       "      <td>0.00</td>\n",
       "      <td>2.32</td>\n",
       "      <td>0.00</td>\n",
       "      <td>0.000</td>\n",
       "      <td>2.473</td>\n",
       "      <td>10</td>\n",
       "      <td>47</td>\n",
       "      <td>0</td>\n",
       "    </tr>\n",
       "    <tr>\n",
       "      <th>3789</th>\n",
       "      <td>0.67</td>\n",
       "      <td>2.68</td>\n",
       "      <td>0.00</td>\n",
       "      <td>0.537</td>\n",
       "      <td>2.604</td>\n",
       "      <td>17</td>\n",
       "      <td>112</td>\n",
       "      <td>0</td>\n",
       "    </tr>\n",
       "    <tr>\n",
       "      <th>3790</th>\n",
       "      <td>0.00</td>\n",
       "      <td>4.83</td>\n",
       "      <td>0.00</td>\n",
       "      <td>0.000</td>\n",
       "      <td>1.700</td>\n",
       "      <td>5</td>\n",
       "      <td>17</td>\n",
       "      <td>1</td>\n",
       "    </tr>\n",
       "    <tr>\n",
       "      <th>3791</th>\n",
       "      <td>0.29</td>\n",
       "      <td>1.16</td>\n",
       "      <td>1.16</td>\n",
       "      <td>0.086</td>\n",
       "      <td>3.591</td>\n",
       "      <td>37</td>\n",
       "      <td>352</td>\n",
       "      <td>1</td>\n",
       "    </tr>\n",
       "    <tr>\n",
       "      <th>3792</th>\n",
       "      <td>0.00</td>\n",
       "      <td>2.85</td>\n",
       "      <td>0.95</td>\n",
       "      <td>0.350</td>\n",
       "      <td>2.608</td>\n",
       "      <td>14</td>\n",
       "      <td>60</td>\n",
       "      <td>0</td>\n",
       "    </tr>\n",
       "  </tbody>\n",
       "</table>\n",
       "<p>3793 rows × 8 columns</p>\n",
       "</div>"
      ],
      "text/plain": [
       "       X12   X19   X21    X50    X55  X56  X57  Y\n",
       "0     0.00  0.00  0.00  0.578  3.800   15   19  1\n",
       "1     0.00  0.00  0.00  0.763  2.285   10   16  0\n",
       "2     0.28  1.97  0.00  0.103  1.403   18   80  0\n",
       "3     3.22  0.00  0.00  0.526  1.571    3   11  0\n",
       "4     3.22  0.00  0.00  0.000  1.818    9   20  0\n",
       "...    ...   ...   ...    ...    ...  ...  ... ..\n",
       "3788  0.00  2.32  0.00  0.000  2.473   10   47  0\n",
       "3789  0.67  2.68  0.00  0.537  2.604   17  112  0\n",
       "3790  0.00  4.83  0.00  0.000  1.700    5   17  1\n",
       "3791  0.29  1.16  1.16  0.086  3.591   37  352  1\n",
       "3792  0.00  2.85  0.95  0.350  2.608   14   60  0\n",
       "\n",
       "[3793 rows x 8 columns]"
      ]
     },
     "execution_count": 18,
     "metadata": {},
     "output_type": "execute_result"
    }
   ],
   "source": [
    "select_df_no_outliers"
   ]
  },
  {
   "cell_type": "markdown",
   "id": "34a3ecbe-7e83-4579-8af7-3f8289437d36",
   "metadata": {
    "tags": []
   },
   "source": [
    "# Model Training and Analysis\n"
   ]
  },
  {
   "cell_type": "code",
   "execution_count": 19,
   "id": "29fc31c3-2157-4ff4-a085-2a3b903e87e5",
   "metadata": {
    "tags": []
   },
   "outputs": [],
   "source": [
    "X=select_df_no_outliers.iloc[:,:-1].values\n",
    "# Normalizing\n",
    "x_scaled = min_max_scaler.fit_transform(X)\n",
    "\n",
    "Y=select_df_no_outliers.iloc[:,-1].values"
   ]
  },
  {
   "cell_type": "code",
   "execution_count": 22,
   "id": "b4bac508-7b18-483f-90f2-0c2c8c68b360",
   "metadata": {
    "tags": []
   },
   "outputs": [],
   "source": [
    "X_train, X_val, Y_train, Y_val = train_test_split(x_scaled, Y, test_size=0.2, random_state=10)"
   ]
  },
  {
   "cell_type": "code",
   "execution_count": 23,
   "id": "f6eed0ce-36e3-4e1e-8ff8-961dd869cb85",
   "metadata": {
    "tags": []
   },
   "outputs": [
    {
     "name": "stdout",
     "output_type": "stream",
     "text": [
      "No. of Train Samples\n",
      "(3034, 7) (3034,)\n",
      "No. of Val Samples\n",
      "(759,) (759,)\n"
     ]
    }
   ],
   "source": [
    "print(\"No. of Train Samples\")\n",
    "print(X_train.shape , Y_train.shape)\n",
    "print(\"No. of Val Samples\")\n",
    "print(Y_val.shape  , Y_val.shape)"
   ]
  },
  {
   "cell_type": "code",
   "execution_count": 24,
   "id": "487e02b2-eb50-4630-9d36-4424241ec478",
   "metadata": {
    "tags": []
   },
   "outputs": [
    {
     "name": "stdout",
     "output_type": "stream",
     "text": [
      "89.06455862977603\n"
     ]
    }
   ],
   "source": [
    "model = xgb.XGBClassifier()\n",
    "model.fit(X_train,Y_train,verbose=True)\n",
    "Y_pred = model.predict(X_val)\n",
    "print(accuracy_score(Y_val,Y_pred)*100)"
   ]
  },
  {
   "cell_type": "code",
   "execution_count": 26,
   "id": "48ebac75-0ae5-445e-8d11-631f74ee0640",
   "metadata": {
    "tags": []
   },
   "outputs": [
    {
     "data": {
      "text/plain": [
       "<sklearn.metrics._plot.confusion_matrix.ConfusionMatrixDisplay at 0x1f982d76bf0>"
      ]
     },
     "execution_count": 26,
     "metadata": {},
     "output_type": "execute_result"
    },
    {
     "data": {
      "image/png": "[encoded data removed]",
      "text/plain": [
       "<Figure size 432x288 with 2 Axes>"
      ]
     },
     "metadata": {
      "needs_background": "light"
     },
     "output_type": "display_data"
    }
   ],
   "source": [
    "cm = confusion_matrix(y_true=Y_val,y_pred=Y_pred)\n",
    "ConfusionMatrixDisplay(cm).plot()"
   ]
  },
  {
   "cell_type": "markdown",
   "id": "ca6da247-b714-4c06-82fa-be3561a60612",
   "metadata": {
    "tags": []
   },
   "source": [
    "#### I used optuna library for Hyper Parameter Tuning, below I have commented the code after taking the best HP values and using them for training"
   ]
  },
  {
   "cell_type": "code",
   "execution_count": 27,
   "id": "f3ff72bf-54c5-4302-ae6b-83e3efa142a5",
   "metadata": {
    "collapsed": true,
    "jupyter": {
     "outputs_hidden": true
    },
    "tags": []
   },
   "outputs": [
    {
     "name": "stderr",
     "output_type": "stream",
     "text": [
      "[I 2024-03-08 01:45:56,370] A new study created in memory with name: no-name-27c60619-d617-4989-a440-64c7ae7d7778\n"
     ]
    },
    {
     "data": {
      "application/vnd.jupyter.widget-view+json": {
       "model_id": "980e1626b599404c9a1ff359b2d8c4eb",
       "version_major": 2,
       "version_minor": 0
      },
      "text/plain": [
       "  0%|          | 0/100 [00:00<?, ?it/s]"
      ]
     },
     "metadata": {},
     "output_type": "display_data"
    },
    {
     "name": "stdout",
     "output_type": "stream",
     "text": [
      "[I 2024-03-08 01:45:56,648] Trial 0 finished with value: 0.8787878787878788 and parameters: {'learning_rate': 0.0971478715980467, 'max_depth': 4, 'subsample': 0.7014547059045118}. Best is trial 0 with value: 0.8787878787878788.\n",
      "[I 2024-03-08 01:45:56,822] Trial 1 finished with value: 0.8748353096179183 and parameters: {'learning_rate': 0.2713101803854854, 'max_depth': 3, 'subsample': 0.8472407623870454}. Best is trial 0 with value: 0.8787878787878788.\n",
      "[I 2024-03-08 01:45:57,122] Trial 2 finished with value: 0.8945981554677207 and parameters: {'learning_rate': 0.26541706934856457, 'max_depth': 6, 'subsample': 0.8044911519718918}. Best is trial 2 with value: 0.8945981554677207.\n",
      "[I 2024-03-08 01:45:57,484] Trial 3 finished with value: 0.8853754940711462 and parameters: {'learning_rate': 0.17299116500411268, 'max_depth': 7, 'subsample': 0.6543594345126755}. Best is trial 2 with value: 0.8945981554677207.\n",
      "[I 2024-03-08 01:45:57,847] Trial 4 finished with value: 0.8932806324110671 and parameters: {'learning_rate': 0.21469210825588406, 'max_depth': 7, 'subsample': 0.8723553790005224}. Best is trial 2 with value: 0.8945981554677207.\n",
      "[I 2024-03-08 01:45:58,005] Trial 5 finished with value: 0.8774703557312253 and parameters: {'learning_rate': 0.2829176131457909, 'max_depth': 3, 'subsample': 0.9836444376655582}. Best is trial 2 with value: 0.8945981554677207.\n",
      "[I 2024-03-08 01:45:58,147] Trial 6 finished with value: 0.8722002635046113 and parameters: {'learning_rate': 0.2922217407339521, 'max_depth': 3, 'subsample': 0.6503208256328515}. Best is trial 2 with value: 0.8945981554677207.\n",
      "[I 2024-03-08 01:45:58,525] Trial 7 finished with value: 0.8893280632411067 and parameters: {'learning_rate': 0.25729760905930427, 'max_depth': 8, 'subsample': 0.9887942765439718}. Best is trial 2 with value: 0.8945981554677207.\n",
      "[I 2024-03-08 01:45:58,697] Trial 8 finished with value: 0.8722002635046113 and parameters: {'learning_rate': 0.19740497073673835, 'max_depth': 3, 'subsample': 0.7718251846070902}. Best is trial 2 with value: 0.8945981554677207.\n",
      "[I 2024-03-08 01:45:59,185] Trial 9 finished with value: 0.8880105401844532 and parameters: {'learning_rate': 0.19477975725879157, 'max_depth': 9, 'subsample': 0.798616637591096}. Best is trial 2 with value: 0.8945981554677207.\n",
      "[I 2024-03-08 01:45:59,517] Trial 10 finished with value: 0.8669301712779973 and parameters: {'learning_rate': 0.010815957799977183, 'max_depth': 5, 'subsample': 0.9089126344143726}. Best is trial 2 with value: 0.8945981554677207.\n",
      "[I 2024-03-08 01:45:59,880] Trial 11 finished with value: 0.8906455862977603 and parameters: {'learning_rate': 0.21286068776328892, 'max_depth': 6, 'subsample': 0.8695960248468917}. Best is trial 2 with value: 0.8945981554677207.\n",
      "[I 2024-03-08 01:46:00,275] Trial 12 finished with value: 0.8827404479578392 and parameters: {'learning_rate': 0.13242210485436673, 'max_depth': 6, 'subsample': 0.7371066005758237}. Best is trial 2 with value: 0.8945981554677207.\n",
      "[I 2024-03-08 01:46:00,693] Trial 13 finished with value: 0.8840579710144928 and parameters: {'learning_rate': 0.2338111710865818, 'max_depth': 7, 'subsample': 0.8988880988235184}. Best is trial 2 with value: 0.8945981554677207.\n",
      "[I 2024-03-08 01:46:01,149] Trial 14 finished with value: 0.8880105401844532 and parameters: {'learning_rate': 0.13279721218282683, 'max_depth': 7, 'subsample': 0.8353885919707319}. Best is trial 2 with value: 0.8945981554677207.\n",
      "[I 2024-03-08 01:46:01,455] Trial 15 finished with value: 0.8840579710144928 and parameters: {'learning_rate': 0.23227974063765885, 'max_depth': 5, 'subsample': 0.9404319331213511}. Best is trial 2 with value: 0.8945981554677207.\n",
      "[I 2024-03-08 01:46:01,975] Trial 16 finished with value: 0.8893280632411067 and parameters: {'learning_rate': 0.07471102977708788, 'max_depth': 8, 'subsample': 0.6028267011861481}. Best is trial 2 with value: 0.8945981554677207.\n",
      "[I 2024-03-08 01:46:02,291] Trial 17 finished with value: 0.8880105401844532 and parameters: {'learning_rate': 0.2508062191483591, 'max_depth': 5, 'subsample': 0.8043902765574678}. Best is trial 2 with value: 0.8945981554677207.\n",
      "[I 2024-03-08 01:46:02,779] Trial 18 finished with value: 0.8932806324110671 and parameters: {'learning_rate': 0.29955659195232637, 'max_depth': 8, 'subsample': 0.7551145847236723}. Best is trial 2 with value: 0.8945981554677207.\n",
      "[I 2024-03-08 01:46:03,345] Trial 19 finished with value: 0.8919631093544137 and parameters: {'learning_rate': 0.1705959566171456, 'max_depth': 9, 'subsample': 0.9430569268880034}. Best is trial 2 with value: 0.8945981554677207.\n",
      "[I 2024-03-08 01:46:03,707] Trial 20 finished with value: 0.8801054018445322 and parameters: {'learning_rate': 0.21895596985419274, 'max_depth': 6, 'subsample': 0.8721823167813456}. Best is trial 2 with value: 0.8945981554677207.\n",
      "[I 2024-03-08 01:46:04,203] Trial 21 finished with value: 0.8787878787878788 and parameters: {'learning_rate': 0.28946401660173915, 'max_depth': 8, 'subsample': 0.7524505420899147}. Best is trial 2 with value: 0.8945981554677207.\n",
      "[I 2024-03-08 01:46:04,635] Trial 22 finished with value: 0.8853754940711462 and parameters: {'learning_rate': 0.297861881883743, 'max_depth': 7, 'subsample': 0.7141539020199587}. Best is trial 2 with value: 0.8945981554677207.\n",
      "[I 2024-03-08 01:46:05,100] Trial 23 finished with value: 0.8919631093544137 and parameters: {'learning_rate': 0.254381868633676, 'max_depth': 8, 'subsample': 0.8057981954821616}. Best is trial 2 with value: 0.8945981554677207.\n",
      "[I 2024-03-08 01:46:05,540] Trial 24 finished with value: 0.8893280632411067 and parameters: {'learning_rate': 0.2686417621482409, 'max_depth': 7, 'subsample': 0.776341443130529}. Best is trial 2 with value: 0.8945981554677207.\n",
      "[I 2024-03-08 01:46:05,917] Trial 25 finished with value: 0.8919631093544137 and parameters: {'learning_rate': 0.243507240723404, 'max_depth': 6, 'subsample': 0.8461751940030513}. Best is trial 2 with value: 0.8945981554677207.\n",
      "[I 2024-03-08 01:46:06,461] Trial 26 finished with value: 0.8932806324110671 and parameters: {'learning_rate': 0.20001475028728335, 'max_depth': 9, 'subsample': 0.6836128063513975}. Best is trial 2 with value: 0.8945981554677207.\n",
      "[I 2024-03-08 01:46:06,940] Trial 27 finished with value: 0.8866930171277997 and parameters: {'learning_rate': 0.2705108688297658, 'max_depth': 8, 'subsample': 0.8257748307512635}. Best is trial 2 with value: 0.8945981554677207.\n",
      "[I 2024-03-08 01:46:07,318] Trial 28 finished with value: 0.8893280632411067 and parameters: {'learning_rate': 0.22251901789755316, 'max_depth': 6, 'subsample': 0.7409682044742792}. Best is trial 2 with value: 0.8945981554677207.\n",
      "[I 2024-03-08 01:46:07,586] Trial 29 finished with value: 0.8774703557312253 and parameters: {'learning_rate': 0.07179524410090324, 'max_depth': 4, 'subsample': 0.7058252465048522}. Best is trial 2 with value: 0.8945981554677207.\n",
      "[I 2024-03-08 01:46:07,847] Trial 30 finished with value: 0.8774703557312253 and parameters: {'learning_rate': 0.179205294312585, 'max_depth': 4, 'subsample': 0.7736005233644125}. Best is trial 2 with value: 0.8945981554677207.\n",
      "[I 2024-03-08 01:46:08,413] Trial 31 finished with value: 0.8919631093544137 and parameters: {'learning_rate': 0.1492570361619583, 'max_depth': 9, 'subsample': 0.6787645723865555}. Best is trial 2 with value: 0.8945981554677207.\n",
      "[I 2024-03-08 01:46:08,949] Trial 32 finished with value: 0.8853754940711462 and parameters: {'learning_rate': 0.20760065343475942, 'max_depth': 9, 'subsample': 0.6797659309567676}. Best is trial 2 with value: 0.8945981554677207.\n",
      "[I 2024-03-08 01:46:09,443] Trial 33 finished with value: 0.8853754940711462 and parameters: {'learning_rate': 0.2710072374013066, 'max_depth': 8, 'subsample': 0.604277253496825}. Best is trial 2 with value: 0.8945981554677207.\n",
      "[I 2024-03-08 01:46:09,860] Trial 34 finished with value: 0.8880105401844532 and parameters: {'learning_rate': 0.18773588594093887, 'max_depth': 7, 'subsample': 0.6504779876259775}. Best is trial 2 with value: 0.8945981554677207.\n",
      "[I 2024-03-08 01:46:10,372] Trial 35 finished with value: 0.8932806324110671 and parameters: {'learning_rate': 0.23678873883147167, 'max_depth': 8, 'subsample': 0.8697656030731434}. Best is trial 2 with value: 0.8945981554677207.\n",
      "[I 2024-03-08 01:46:10,938] Trial 36 finished with value: 0.8866930171277997 and parameters: {'learning_rate': 0.15809015363056184, 'max_depth': 9, 'subsample': 0.7235394074833003}. Best is trial 2 with value: 0.8945981554677207.\n",
      "[I 2024-03-08 01:46:11,378] Trial 37 finished with value: 0.8906455862977603 and parameters: {'learning_rate': 0.2795086682098562, 'max_depth': 7, 'subsample': 0.6710498002734154}. Best is trial 2 with value: 0.8945981554677207.\n",
      "[I 2024-03-08 01:46:11,914] Trial 38 finished with value: 0.8919631093544137 and parameters: {'learning_rate': 0.26136847639231336, 'max_depth': 9, 'subsample': 0.8200756337048403}. Best is trial 2 with value: 0.8945981554677207.\n",
      "[I 2024-03-08 01:46:12,401] Trial 39 finished with value: 0.8866930171277997 and parameters: {'learning_rate': 0.2994665567849633, 'max_depth': 8, 'subsample': 0.6327219581844703}. Best is trial 2 with value: 0.8945981554677207.\n",
      "[I 2024-03-08 01:46:12,715] Trial 40 finished with value: 0.8840579710144928 and parameters: {'learning_rate': 0.2004504592495634, 'max_depth': 5, 'subsample': 0.7604729437951415}. Best is trial 2 with value: 0.8945981554677207.\n",
      "[I 2024-03-08 01:46:13,218] Trial 41 finished with value: 0.8840579710144928 and parameters: {'learning_rate': 0.2377908309460969, 'max_depth': 8, 'subsample': 0.864452084806246}. Best is trial 2 with value: 0.8945981554677207.\n",
      "[I 2024-03-08 01:46:13,658] Trial 42 finished with value: 0.8840579710144928 and parameters: {'learning_rate': 0.22676127259087842, 'max_depth': 7, 'subsample': 0.8852934062130625}. Best is trial 2 with value: 0.8945981554677207.\n",
      "[I 2024-03-08 01:46:14,200] Trial 43 finished with value: 0.8919631093544137 and parameters: {'learning_rate': 0.2799522781190085, 'max_depth': 9, 'subsample': 0.922631861813992}. Best is trial 2 with value: 0.8945981554677207.\n",
      "[I 2024-03-08 01:46:14,698] Trial 44 finished with value: 0.8998682476943346 and parameters: {'learning_rate': 0.2457334942364935, 'max_depth': 8, 'subsample': 0.7937190126884546}. Best is trial 44 with value: 0.8998682476943346.\n",
      "[I 2024-03-08 01:46:15,137] Trial 45 finished with value: 0.8972332015810277 and parameters: {'learning_rate': 0.2505337059546819, 'max_depth': 7, 'subsample': 0.7955790523930429}. Best is trial 44 with value: 0.8998682476943346.\n",
      "[I 2024-03-08 01:46:15,526] Trial 46 finished with value: 0.8853754940711462 and parameters: {'learning_rate': 0.250392594883234, 'max_depth': 6, 'subsample': 0.7863848592055198}. Best is trial 44 with value: 0.8998682476943346.\n",
      "[I 2024-03-08 01:46:15,971] Trial 47 finished with value: 0.8814229249011858 and parameters: {'learning_rate': 0.28394266985603944, 'max_depth': 7, 'subsample': 0.795733155704279}. Best is trial 44 with value: 0.8998682476943346.\n",
      "[I 2024-03-08 01:46:16,427] Trial 48 finished with value: 0.8906455862977603 and parameters: {'learning_rate': 0.26217854159340026, 'max_depth': 7, 'subsample': 0.8459492632875188}. Best is trial 44 with value: 0.8998682476943346.\n",
      "[I 2024-03-08 01:46:16,806] Trial 49 finished with value: 0.8866930171277997 and parameters: {'learning_rate': 0.24682972126445596, 'max_depth': 6, 'subsample': 0.8219655876360831}. Best is trial 44 with value: 0.8998682476943346.\n",
      "[I 2024-03-08 01:46:17,215] Trial 50 finished with value: 0.8972332015810277 and parameters: {'learning_rate': 0.28312791832057405, 'max_depth': 7, 'subsample': 0.9676445238253004}. Best is trial 44 with value: 0.8998682476943346.\n",
      "[I 2024-03-08 01:46:17,641] Trial 51 finished with value: 0.8893280632411067 and parameters: {'learning_rate': 0.2783990813118967, 'max_depth': 7, 'subsample': 0.9535644620397675}. Best is trial 44 with value: 0.8998682476943346.\n",
      "[I 2024-03-08 01:46:18,035] Trial 52 finished with value: 0.8880105401844532 and parameters: {'learning_rate': 0.29320817732892795, 'max_depth': 7, 'subsample': 0.9653247616167282}. Best is trial 44 with value: 0.8998682476943346.\n",
      "[I 2024-03-08 01:46:18,412] Trial 53 finished with value: 0.8919631093544137 and parameters: {'learning_rate': 0.2644540201874444, 'max_depth': 6, 'subsample': 0.7524675542661777}. Best is trial 44 with value: 0.8998682476943346.\n",
      "[I 2024-03-08 01:46:18,900] Trial 54 finished with value: 0.8893280632411067 and parameters: {'learning_rate': 0.25489332150222166, 'max_depth': 8, 'subsample': 0.9839984126718644}. Best is trial 44 with value: 0.8998682476943346.\n",
      "[I 2024-03-08 01:46:19,283] Trial 55 finished with value: 0.8866930171277997 and parameters: {'learning_rate': 0.288366487086561, 'max_depth': 6, 'subsample': 0.9212780064792326}. Best is trial 44 with value: 0.8998682476943346.\n",
      "[I 2024-03-08 01:46:19,781] Trial 56 finished with value: 0.8919631093544137 and parameters: {'learning_rate': 0.22136495510733414, 'max_depth': 8, 'subsample': 0.7874010091011536}. Best is trial 44 with value: 0.8998682476943346.\n",
      "[I 2024-03-08 01:46:20,221] Trial 57 finished with value: 0.8906455862977603 and parameters: {'learning_rate': 0.2112036081198707, 'max_depth': 7, 'subsample': 0.9987335824218443}. Best is trial 44 with value: 0.8998682476943346.\n",
      "[I 2024-03-08 01:46:20,567] Trial 58 finished with value: 0.8840579710144928 and parameters: {'learning_rate': 0.24257210158557813, 'max_depth': 5, 'subsample': 0.7271653371713566}. Best is trial 44 with value: 0.8998682476943346.\n",
      "[I 2024-03-08 01:46:21,027] Trial 59 finished with value: 0.8893280632411067 and parameters: {'learning_rate': 0.2808103064325544, 'max_depth': 8, 'subsample': 0.8128323408603557}. Best is trial 44 with value: 0.8998682476943346.\n",
      "[I 2024-03-08 01:46:21,444] Trial 60 finished with value: 0.8761528326745718 and parameters: {'learning_rate': 0.029397974642288133, 'max_depth': 6, 'subsample': 0.7828531479530604}. Best is trial 44 with value: 0.8998682476943346.\n",
      "[I 2024-03-08 01:46:21,998] Trial 61 finished with value: 0.8814229249011858 and parameters: {'learning_rate': 0.23015818134798344, 'max_depth': 9, 'subsample': 0.6958137441213783}. Best is trial 44 with value: 0.8998682476943346.\n",
      "[I 2024-03-08 01:46:22,457] Trial 62 finished with value: 0.8840579710144928 and parameters: {'learning_rate': 0.1916860920774004, 'max_depth': 7, 'subsample': 0.8926092573675538}. Best is trial 44 with value: 0.8998682476943346.\n",
      "[I 2024-03-08 01:46:22,970] Trial 63 finished with value: 0.8840579710144928 and parameters: {'learning_rate': 0.20568885677060808, 'max_depth': 8, 'subsample': 0.833058845747517}. Best is trial 44 with value: 0.8998682476943346.\n",
      "[I 2024-03-08 01:46:23,514] Trial 64 finished with value: 0.8853754940711462 and parameters: {'learning_rate': 0.27381695363741443, 'max_depth': 9, 'subsample': 0.756379108779927}. Best is trial 44 with value: 0.8998682476943346.\n",
      "[I 2024-03-08 01:46:23,954] Trial 65 finished with value: 0.8919631093544137 and parameters: {'learning_rate': 0.21508192755687575, 'max_depth': 7, 'subsample': 0.7956587466254998}. Best is trial 44 with value: 0.8998682476943346.\n",
      "[I 2024-03-08 01:46:24,451] Trial 66 finished with value: 0.8972332015810277 and parameters: {'learning_rate': 0.25847701161021264, 'max_depth': 8, 'subsample': 0.8543451572586631}. Best is trial 44 with value: 0.8998682476943346.\n",
      "[I 2024-03-08 01:46:24,946] Trial 67 finished with value: 0.8880105401844532 and parameters: {'learning_rate': 0.2582595207553925, 'max_depth': 8, 'subsample': 0.855274847225696}. Best is trial 44 with value: 0.8998682476943346.\n",
      "[I 2024-03-08 01:46:25,449] Trial 68 finished with value: 0.8853754940711462 and parameters: {'learning_rate': 0.2918121691488979, 'max_depth': 8, 'subsample': 0.8398030751191166}. Best is trial 44 with value: 0.8998682476943346.\n",
      "[I 2024-03-08 01:46:25,764] Trial 69 finished with value: 0.8827404479578392 and parameters: {'learning_rate': 0.2718702049822028, 'max_depth': 5, 'subsample': 0.7641560274485967}. Best is trial 44 with value: 0.8998682476943346.\n",
      "[I 2024-03-08 01:46:26,285] Trial 70 finished with value: 0.8814229249011858 and parameters: {'learning_rate': 0.24701907852101973, 'max_depth': 8, 'subsample': 0.8106182048779047}. Best is trial 44 with value: 0.8998682476943346.\n",
      "[I 2024-03-08 01:46:26,822] Trial 71 finished with value: 0.8959156785243741 and parameters: {'learning_rate': 0.2346445465350155, 'max_depth': 9, 'subsample': 0.9042213902780836}. Best is trial 44 with value: 0.8998682476943346.\n",
      "[I 2024-03-08 01:46:27,233] Trial 72 finished with value: 0.8932806324110671 and parameters: {'learning_rate': 0.29998765718664294, 'max_depth': 7, 'subsample': 0.8795056934884442}. Best is trial 44 with value: 0.8998682476943346.\n",
      "[I 2024-03-08 01:46:27,595] Trial 73 finished with value: 0.8787878787878788 and parameters: {'learning_rate': 0.23510642943293394, 'max_depth': 6, 'subsample': 0.9038393804731082}. Best is trial 44 with value: 0.8998682476943346.\n",
      "[I 2024-03-08 01:46:28,075] Trial 74 finished with value: 0.8827404479578392 and parameters: {'learning_rate': 0.26416659516058033, 'max_depth': 8, 'subsample': 0.9155404784572377}. Best is trial 44 with value: 0.8998682476943346.\n",
      "[I 2024-03-08 01:46:28,577] Trial 75 finished with value: 0.8880105401844532 and parameters: {'learning_rate': 0.2555661773025435, 'max_depth': 8, 'subsample': 0.8563916440538879}. Best is trial 44 with value: 0.8998682476943346.\n",
      "[I 2024-03-08 01:46:29,128] Trial 76 finished with value: 0.8906455862977603 and parameters: {'learning_rate': 0.1260234313784809, 'max_depth': 9, 'subsample': 0.7386025934600035}. Best is trial 44 with value: 0.8998682476943346.\n",
      "[I 2024-03-08 01:46:29,545] Trial 77 finished with value: 0.8906455862977603 and parameters: {'learning_rate': 0.24417009234539028, 'max_depth': 7, 'subsample': 0.9623962323778633}. Best is trial 44 with value: 0.8998682476943346.\n",
      "[I 2024-03-08 01:46:30,063] Trial 78 finished with value: 0.8866930171277997 and parameters: {'learning_rate': 0.286562691670407, 'max_depth': 9, 'subsample': 0.9432736367679981}. Best is trial 44 with value: 0.8998682476943346.\n",
      "[I 2024-03-08 01:46:30,457] Trial 79 finished with value: 0.8866930171277997 and parameters: {'learning_rate': 0.2681635278864022, 'max_depth': 6, 'subsample': 0.9306115078479279}. Best is trial 44 with value: 0.8998682476943346.\n",
      "[I 2024-03-08 01:46:30,702] Trial 80 finished with value: 0.8814229249011858 and parameters: {'learning_rate': 0.22267894378721154, 'max_depth': 3, 'subsample': 0.8301660285943195}. Best is trial 44 with value: 0.8998682476943346.\n",
      "[I 2024-03-08 01:46:31,284] Trial 81 finished with value: 0.8853754940711462 and parameters: {'learning_rate': 0.17607714477219366, 'max_depth': 9, 'subsample': 0.8913086246951348}. Best is trial 44 with value: 0.8998682476943346.\n",
      "[I 2024-03-08 01:46:31,834] Trial 82 finished with value: 0.8893280632411067 and parameters: {'learning_rate': 0.22978383235261937, 'max_depth': 9, 'subsample': 0.8540627206165771}. Best is trial 44 with value: 0.8998682476943346.\n",
      "[I 2024-03-08 01:46:32,410] Trial 83 finished with value: 0.8853754940711462 and parameters: {'learning_rate': 0.23792290633135435, 'max_depth': 9, 'subsample': 0.6285347193167293}. Best is trial 44 with value: 0.8998682476943346.\n",
      "[I 2024-03-08 01:46:32,850] Trial 84 finished with value: 0.8893280632411067 and parameters: {'learning_rate': 0.2518298178620301, 'max_depth': 7, 'subsample': 0.7685515313941628}. Best is trial 44 with value: 0.8998682476943346.\n",
      "[I 2024-03-08 01:46:33,362] Trial 85 finished with value: 0.8853754940711462 and parameters: {'learning_rate': 0.20121493224790438, 'max_depth': 8, 'subsample': 0.800647477644582}. Best is trial 44 with value: 0.8998682476943346.\n",
      "[I 2024-03-08 01:46:33,865] Trial 86 finished with value: 0.8893280632411067 and parameters: {'learning_rate': 0.18405282265048858, 'max_depth': 9, 'subsample': 0.8168066543122074}. Best is trial 44 with value: 0.8998682476943346.\n",
      "[I 2024-03-08 01:46:34,359] Trial 87 finished with value: 0.8932806324110671 and parameters: {'learning_rate': 0.1581998739931908, 'max_depth': 8, 'subsample': 0.8752190381411383}. Best is trial 44 with value: 0.8998682476943346.\n",
      "[I 2024-03-08 01:46:34,815] Trial 88 finished with value: 0.8906455862977603 and parameters: {'learning_rate': 0.21727519783743973, 'max_depth': 7, 'subsample': 0.8646880705443976}. Best is trial 44 with value: 0.8998682476943346.\n",
      "[I 2024-03-08 01:46:35,314] Trial 89 finished with value: 0.8814229249011858 and parameters: {'learning_rate': 0.2768900561409608, 'max_depth': 8, 'subsample': 0.8447170177026933}. Best is trial 44 with value: 0.8998682476943346.\n",
      "[I 2024-03-08 01:46:35,674] Trial 90 finished with value: 0.8945981554677207 and parameters: {'learning_rate': 0.26358985108234684, 'max_depth': 6, 'subsample': 0.6987986776840251}. Best is trial 44 with value: 0.8998682476943346.\n",
      "[I 2024-03-08 01:46:36,046] Trial 91 finished with value: 0.8906455862977603 and parameters: {'learning_rate': 0.25894290306632267, 'max_depth': 6, 'subsample': 0.6873364977804785}. Best is trial 44 with value: 0.8998682476943346.\n",
      "[I 2024-03-08 01:46:36,440] Trial 92 finished with value: 0.8932806324110671 and parameters: {'learning_rate': 0.264829590030659, 'max_depth': 6, 'subsample': 0.702892800171587}. Best is trial 44 with value: 0.8998682476943346.\n",
      "[I 2024-03-08 01:46:36,840] Trial 93 finished with value: 0.8840579710144928 and parameters: {'learning_rate': 0.2402168827424736, 'max_depth': 6, 'subsample': 0.6670604062042738}. Best is trial 44 with value: 0.8998682476943346.\n",
      "[I 2024-03-08 01:46:37,228] Trial 94 finished with value: 0.8880105401844532 and parameters: {'learning_rate': 0.25157715372482037, 'max_depth': 7, 'subsample': 0.7181152227243599}. Best is trial 44 with value: 0.8998682476943346.\n",
      "[I 2024-03-08 01:46:37,616] Trial 95 finished with value: 0.8840579710144928 and parameters: {'learning_rate': 0.29388382481400854, 'max_depth': 6, 'subsample': 0.7764659996027051}. Best is trial 44 with value: 0.8998682476943346.\n",
      "[I 2024-03-08 01:46:38,172] Trial 96 finished with value: 0.9011857707509882 and parameters: {'learning_rate': 0.22588838191694433, 'max_depth': 9, 'subsample': 0.9735043255129058}. Best is trial 96 with value: 0.9011857707509882.\n",
      "[I 2024-03-08 01:46:38,499] Trial 97 finished with value: 0.8840579710144928 and parameters: {'learning_rate': 0.2849663660874379, 'max_depth': 5, 'subsample': 0.9836984695929739}. Best is trial 96 with value: 0.9011857707509882.\n",
      "[I 2024-03-08 01:46:38,896] Trial 98 finished with value: 0.8880105401844532 and parameters: {'learning_rate': 0.2287145046722247, 'max_depth': 7, 'subsample': 0.9950558563912858}. Best is trial 96 with value: 0.9011857707509882.\n",
      "[I 2024-03-08 01:46:39,447] Trial 99 finished with value: 0.8880105401844532 and parameters: {'learning_rate': 0.2723460379387299, 'max_depth': 9, 'subsample': 0.9653271526969833}. Best is trial 96 with value: 0.9011857707509882.\n",
      "Best hyperparameters: {'learning_rate': 0.22588838191694433, 'max_depth': 9, 'subsample': 0.9735043255129058}\n"
     ]
    }
   ],
   "source": [
    "\n",
    "# def objective(trial):\n",
    "#     # Define hyperparameters to optimize\n",
    "#     params = {\n",
    "#         'learning_rate': trial.suggest_float('learning_rate', 0.01, 0.3),\n",
    "#         'max_depth': trial.suggest_int('max_depth', 3, 9),\n",
    "#         'subsample': trial.suggest_float('subsample', 0.6, 1.0),\n",
    "#     }\n",
    "\n",
    "#     tuned_model =xgb.XGBClassifier(**params)\n",
    "#     tuned_model.fit(X_train, Y_train)\n",
    "#     y_pred_tuned = tuned_model.predict(X_val)\n",
    "#     accuracy = accuracy_score(Y_val, y_pred_tuned)\n",
    "#     return accuracy\n",
    "\n",
    "# # Create an Optuna study\n",
    "# study = optuna.create_study(direction='maximize')\n",
    "# study.optimize(objective, n_trials=100,show_progress_bar=True)  # You can adjust the number of trials\n",
    "\n",
    "# # Get the best hyperparameters\n",
    "# best_params = study.best_params\n",
    "# print(f\"Best hyperparameters: {best_params}\")\n"
   ]
  },
  {
   "cell_type": "markdown",
   "id": "b0327904-32df-4dc4-9d2c-a0473c25d4b0",
   "metadata": {
    "tags": []
   },
   "source": [
    "\n",
    "`best_params : {'learning_rate': 0.22588838191694433,\n",
    " 'max_depth': 9,\n",
    " 'subsample': 0.9735043255129058}`"
   ]
  },
  {
   "cell_type": "markdown",
   "id": "a09b3aaf-6271-4470-b8e4-4d6f44cb5f5b",
   "metadata": {
    "tags": []
   },
   "source": [
    "### Training Model using best parameters as generated by optuna"
   ]
  },
  {
   "cell_type": "code",
   "execution_count": 32,
   "id": "868845be-bf21-44ab-ba7b-91488038d639",
   "metadata": {
    "tags": []
   },
   "outputs": [
    {
     "name": "stdout",
     "output_type": "stream",
     "text": [
      "90.11857707509881\n"
     ]
    }
   ],
   "source": [
    "model_2 = xgb.XGBClassifier(**best_params)\n",
    "model_2.fit(X_train,Y_train,verbose=True)\n",
    "Y_pred_2 = model_2.predict(X_val)\n",
    "print(accuracy_score(Y_val,Y_pred_2)*100)"
   ]
  },
  {
   "cell_type": "markdown",
   "id": "33d39fe4-a861-4f1e-b0ff-fda754bc3a4e",
   "metadata": {},
   "source": [
    "`We observe an increase in accuracy of model by around 1% after using these hyper parameters`"
   ]
  },
  {
   "cell_type": "code",
   "execution_count": 34,
   "id": "ac867819-7705-4596-a8cc-e44b26469114",
   "metadata": {
    "tags": []
   },
   "outputs": [
    {
     "data": {
      "text/plain": [
       "<sklearn.metrics._plot.confusion_matrix.ConfusionMatrixDisplay at 0x1f983a11d50>"
      ]
     },
     "execution_count": 34,
     "metadata": {},
     "output_type": "execute_result"
    },
    {
     "data": {
      "image/png": "[encoded data removed]",
      "text/plain": [
       "<Figure size 432x288 with 2 Axes>"
      ]
     },
     "metadata": {
      "needs_background": "light"
     },
     "output_type": "display_data"
    }
   ],
   "source": [
    "cm_2 = confusion_matrix(y_true=Y_val,y_pred=Y_pred_2)\n",
    "ConfusionMatrixDisplay(cm_2).plot()"
   ]
  },
  {
   "cell_type": "code",
   "execution_count": 35,
   "id": "daa6d3d2-c931-47eb-8759-5384174f5ec0",
   "metadata": {},
   "outputs": [
    {
     "data": {
      "text/plain": [
       "<sklearn.metrics._plot.confusion_matrix.ConfusionMatrixDisplay at 0x1f983b96050>"
      ]
     },
     "execution_count": 35,
     "metadata": {},
     "output_type": "execute_result"
    },
    {
     "data": {
      "image/png": "[encoded data removed]",
      "text/plain": [
       "<Figure size 432x288 with 2 Axes>"
      ]
     },
     "metadata": {
      "needs_background": "light"
     },
     "output_type": "display_data"
    }
   ],
   "source": [
    "cm = confusion_matrix(y_true=Y_val,y_pred=Y_pred)\n",
    "ConfusionMatrixDisplay(cm).plot()"
   ]
  },
  {
   "cell_type": "markdown",
   "id": "e7736e27-61cd-47b0-9602-1107f21e534a",
   "metadata": {
    "tags": []
   },
   "source": [
    "# Observations and Conclusion"
   ]
  },
  {
   "cell_type": "code",
   "execution_count": 36,
   "id": "4099831e-fbb8-487e-a57b-cc53deee71e0",
   "metadata": {
    "tags": []
   },
   "outputs": [
    {
     "name": "stdout",
     "output_type": "stream",
     "text": [
      "----------------------------------------------------------------------------------------------------\n",
      " Base Model \n",
      "FPR - 8.225 % ; FNR - 15.152\n",
      "----------------------------------------------------------------------------------------------------\n",
      "              precision    recall  f1-score   support\n",
      "\n",
      "           0       0.90      0.92      0.91       462\n",
      "           1       0.87      0.85      0.86       297\n",
      "\n",
      "    accuracy                           0.89       759\n",
      "   macro avg       0.89      0.88      0.88       759\n",
      "weighted avg       0.89      0.89      0.89       759\n",
      "\n",
      "----------------------------------------------------------------------------------------------------\n",
      " Tuned Model \n",
      "FPR - 7.792 % ; FNR - 13.131\n",
      "----------------------------------------------------------------------------------------------------\n",
      "              precision    recall  f1-score   support\n",
      "\n",
      "           0       0.92      0.92      0.92       462\n",
      "           1       0.88      0.87      0.87       297\n",
      "\n",
      "    accuracy                           0.90       759\n",
      "   macro avg       0.90      0.90      0.90       759\n",
      "weighted avg       0.90      0.90      0.90       759\n",
      "\n"
     ]
    }
   ],
   "source": [
    "print(\"-\"*100)\n",
    "print(\" Base Model \")\n",
    "print(f\"FPR - { round((cm[0][1]/(cm[0][1]+cm[0][0]))*100,3)} % ; FNR - { round ((cm[1][0]/(cm[1][0]+cm[1][1]))*100,3)}\")\n",
    "print(\"-\"*100)\n",
    "print(classification_report(y_true=Y_val,y_pred=Y_pred))\n",
    "print(\"-\"*100)\n",
    "print(\" Tuned Model \")\n",
    "print(f\"FPR - { round((cm_2[0][1]/(cm_2[0][1]+cm_2[0][0]))*100,3)} % ; FNR - { round ((cm_2[1][0]/(cm_2[1][0]+cm_2[1][1]))*100,3)}\")\n",
    "\n",
    "print(\"-\"*100)\n",
    "print(classification_report(y_true=Y_val,y_pred=Y_pred_2))"
   ]
  },
  {
   "cell_type": "markdown",
   "id": "e9e2fbe1-12f1-4bb2-95a8-e7569dc10100",
   "metadata": {},
   "source": [
    "1. We can clearly observe a 1% increase in overall accuracy \n",
    "2. Class wise we observe 2%(Class:0) and 1%(Class:1) inc. in Precision\n",
    "3. We observe 2%(Class:1) inc. in Recall\n",
    "4. Class wise we observe 1%(Class:0) and 1%(Class:1) inc. in f1-score\n",
    "5. There is sharp decrease of 5.2% in FPR and 15.4% decrease in FNR.\n",
    "6. As the classes are imbalanced, weighted avg which uses the support values of each class gives a better performance metric of the model.\n",
    "7. Here the weighted avg is greater than macro avg which is a positive sign.\n",
    "\n",
    "Hence, we select the model_2 (Tuned Model )\n",
    "\n"
   ]
  },
  {
   "cell_type": "code",
   "execution_count": 39,
   "id": "cf47c92c-821e-4453-bc97-455164381ab4",
   "metadata": {
    "tags": []
   },
   "outputs": [],
   "source": [
    "# saving the best model\n",
    "# model_2.save_model('.model/bestModel.json')"
   ]
  },
  {
   "cell_type": "markdown",
   "id": "d45091af-4296-40a9-ad15-1e801f2b4f22",
   "metadata": {
    "tags": []
   },
   "source": [
    "In the Tuned model we observe that it has a really good precision and recall for class 0 but not for class 1, we require more samples for class 1 to make the model generalize well over this class too. However precision value is still closer\n",
    "\n",
    "Consider Class 0 as False and Class 1 as True.\n",
    "Here FPR is 7.792, which means the model is wrongly predicting class 0 as class 1 every 78 out of 1000 times, In any kind of system be it credit risk, fraud detection etc. this much FPR is very risky and we need to reduce it.\n",
    "\n",
    "Similary a very high FNR of 13.13% is not good as every 1 out of 8 True samples are getting rejected , this makes the model a big failure in real world sceanrios.\n",
    "\n",
    "`Conclusion/ Future Scope` : The model needs to be trained on more data and on a better variation needs to be provided in the training model, also class imabalance needs to be taken care of. To start the experiment process on the given type of dataset, this model seems good, a better data selection and hyperparameter tuning will help in getting good results.\n",
    "\n",
    " "
   ]
  },
  {
   "cell_type": "code",
   "execution_count": 38,
   "id": "4d3a6544-1813-4e94-9700-ca4f323316b4",
   "metadata": {
    "tags": []
   },
   "outputs": [],
   "source": []
  },
  {
   "cell_type": "code",
   "execution_count": null,
   "id": "6223845a-30ba-4156-9ab7-74bdf539fc8b",
   "metadata": {},
   "outputs": [],
   "source": []
  }
 ],
 "metadata": {
  "kernelspec": {
   "display_name": "Python 3 (ipykernel)",
   "language": "python",
   "name": "python3"
  },
  "language_info": {
   "codemirror_mode": {
    "name": "ipython",
    "version": 3
   },
   "file_extension": ".py",
   "mimetype": "text/x-python",
   "name": "python",
   "nbconvert_exporter": "python",
   "pygments_lexer": "ipython3",
   "version": "3.10.5"
  }
 },
 "nbformat": 4,
 "nbformat_minor": 5
}
